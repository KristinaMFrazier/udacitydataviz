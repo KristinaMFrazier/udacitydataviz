{
 "cells": [
  {
   "cell_type": "markdown",
   "metadata": {},
   "source": [
    "# Exploration of Etsy Listing Data for Artificial Crepe Paper Flower Products\n",
    "### by Kristina Frazier\n",
    "\n",
    "## Preliminary Wrangling\n",
    "\n",
    "This project explores listing data from the Etsy.com API. Specifically, I extracted listings for artificial crepe paper flower products from Etsy.com in July 2020 in order to learn more about the artifical crepe paper flower market. Specifically, I wanted to know more about this market in otder maximize sales for my own Etsy shop: CrepeFloret. CrepeFloret is one of many Etsy shops that sells faux flower arrangements made of crepe paper. Insights uncovered from an analysis of listing data from competing shops may result in a competitive edge for CrepeFloret. I extracted and cleaned this data myself using SQL and Python. The datasets loaded below are the result of previous work done to restructure the raw data into clean and tidy datasets.\n"
   ]
  },
  {
   "cell_type": "code",
   "execution_count": 1,
   "metadata": {},
   "outputs": [],
   "source": [
    "# import all packages and set plots to be embedded inline\n",
    "import numpy as np\n",
    "import pandas as pd\n",
    "import matplotlib.pyplot as plt\n",
    "import seaborn as sb\n",
    "\n",
    "%matplotlib inline"
   ]
  },
  {
   "cell_type": "code",
   "execution_count": 2,
   "metadata": {},
   "outputs": [],
   "source": [
    "listings = pd.read_csv('data/all_main_data_clean.csv')\n",
    "listing_materials = pd.read_csv('data/all_materials_data_clean.csv')\n",
    "listing_tags = pd.read_csv('data/all_tag_data_clean.csv')"
   ]
  },
  {
   "cell_type": "code",
   "execution_count": 3,
   "metadata": {},
   "outputs": [
    {
     "name": "stdout",
     "output_type": "stream",
     "text": [
      "(4750, 9)\n",
      "listing_id       float64\n",
      "title             object\n",
      "description       object\n",
      "price            float64\n",
      "currency_code     object\n",
      "quantity         float64\n",
      "views            float64\n",
      "num_favorers     float64\n",
      "when_made         object\n",
      "dtype: object\n"
     ]
    }
   ],
   "source": [
    "# high-level overview of data shape and composition\n",
    "print(listings.shape)\n",
    "print(listings.dtypes)"
   ]
  },
  {
   "cell_type": "code",
   "execution_count": 4,
   "metadata": {},
   "outputs": [
    {
     "data": {
      "text/html": [
       "<div>\n",
       "<style scoped>\n",
       "    .dataframe tbody tr th:only-of-type {\n",
       "        vertical-align: middle;\n",
       "    }\n",
       "\n",
       "    .dataframe tbody tr th {\n",
       "        vertical-align: top;\n",
       "    }\n",
       "\n",
       "    .dataframe thead th {\n",
       "        text-align: right;\n",
       "    }\n",
       "</style>\n",
       "<table border=\"1\" class=\"dataframe\">\n",
       "  <thead>\n",
       "    <tr style=\"text-align: right;\">\n",
       "      <th></th>\n",
       "      <th>listing_id</th>\n",
       "      <th>title</th>\n",
       "      <th>description</th>\n",
       "      <th>price</th>\n",
       "      <th>currency_code</th>\n",
       "      <th>quantity</th>\n",
       "      <th>views</th>\n",
       "      <th>num_favorers</th>\n",
       "      <th>when_made</th>\n",
       "    </tr>\n",
       "  </thead>\n",
       "  <tbody>\n",
       "    <tr>\n",
       "      <th>0</th>\n",
       "      <td>648739494.0</td>\n",
       "      <td>10 Sheets Of Tissue Paper Crisp White Acid Fre...</td>\n",
       "      <td>This lovely crisp, white tissue paper is acid ...</td>\n",
       "      <td>2.99</td>\n",
       "      <td>GBP</td>\n",
       "      <td>9.0</td>\n",
       "      <td>449.0</td>\n",
       "      <td>32.0</td>\n",
       "      <td>2010_2019</td>\n",
       "    </tr>\n",
       "    <tr>\n",
       "      <th>1</th>\n",
       "      <td>573652142.0</td>\n",
       "      <td>Vintage Christmas Accordion Bell, Vintage Red ...</td>\n",
       "      <td>Vintage Christmas Accordion Bell, Vintage Red ...</td>\n",
       "      <td>6.97</td>\n",
       "      <td>USD</td>\n",
       "      <td>2.0</td>\n",
       "      <td>93.0</td>\n",
       "      <td>12.0</td>\n",
       "      <td>1950s</td>\n",
       "    </tr>\n",
       "    <tr>\n",
       "      <th>2</th>\n",
       "      <td>770666856.0</td>\n",
       "      <td>Pink floral arrangement, paper flowers in a ca...</td>\n",
       "      <td>A floral arrangement of pink paper flowers del...</td>\n",
       "      <td>47.00</td>\n",
       "      <td>EUR</td>\n",
       "      <td>1.0</td>\n",
       "      <td>107.0</td>\n",
       "      <td>15.0</td>\n",
       "      <td>made_to_order</td>\n",
       "    </tr>\n",
       "    <tr>\n",
       "      <th>3</th>\n",
       "      <td>275256894.0</td>\n",
       "      <td>Bouquet  - bouquet - rose crepe paper - bouque...</td>\n",
       "      <td>Very beautiful and elegant bouquet of six rose...</td>\n",
       "      <td>20.00</td>\n",
       "      <td>EUR</td>\n",
       "      <td>10.0</td>\n",
       "      <td>423.0</td>\n",
       "      <td>32.0</td>\n",
       "      <td>made_to_order</td>\n",
       "    </tr>\n",
       "    <tr>\n",
       "      <th>4</th>\n",
       "      <td>289433355.0</td>\n",
       "      <td>wedding pinata - pinata wedding - roses pinata...</td>\n",
       "      <td>Large pinata , height of about 12 inch. Entire...</td>\n",
       "      <td>65.00</td>\n",
       "      <td>EUR</td>\n",
       "      <td>10.0</td>\n",
       "      <td>674.0</td>\n",
       "      <td>52.0</td>\n",
       "      <td>made_to_order</td>\n",
       "    </tr>\n",
       "  </tbody>\n",
       "</table>\n",
       "</div>"
      ],
      "text/plain": [
       "    listing_id                                              title  \\\n",
       "0  648739494.0  10 Sheets Of Tissue Paper Crisp White Acid Fre...   \n",
       "1  573652142.0  Vintage Christmas Accordion Bell, Vintage Red ...   \n",
       "2  770666856.0  Pink floral arrangement, paper flowers in a ca...   \n",
       "3  275256894.0  Bouquet  - bouquet - rose crepe paper - bouque...   \n",
       "4  289433355.0  wedding pinata - pinata wedding - roses pinata...   \n",
       "\n",
       "                                         description  price currency_code  \\\n",
       "0  This lovely crisp, white tissue paper is acid ...   2.99           GBP   \n",
       "1  Vintage Christmas Accordion Bell, Vintage Red ...   6.97           USD   \n",
       "2  A floral arrangement of pink paper flowers del...  47.00           EUR   \n",
       "3  Very beautiful and elegant bouquet of six rose...  20.00           EUR   \n",
       "4  Large pinata , height of about 12 inch. Entire...  65.00           EUR   \n",
       "\n",
       "   quantity  views  num_favorers      when_made  \n",
       "0       9.0  449.0          32.0      2010_2019  \n",
       "1       2.0   93.0          12.0          1950s  \n",
       "2       1.0  107.0          15.0  made_to_order  \n",
       "3      10.0  423.0          32.0  made_to_order  \n",
       "4      10.0  674.0          52.0  made_to_order  "
      ]
     },
     "execution_count": 4,
     "metadata": {},
     "output_type": "execute_result"
    }
   ],
   "source": [
    "listings.head()"
   ]
  },
  {
   "cell_type": "code",
   "execution_count": 5,
   "metadata": {},
   "outputs": [
    {
     "data": {
      "text/html": [
       "<div>\n",
       "<style scoped>\n",
       "    .dataframe tbody tr th:only-of-type {\n",
       "        vertical-align: middle;\n",
       "    }\n",
       "\n",
       "    .dataframe tbody tr th {\n",
       "        vertical-align: top;\n",
       "    }\n",
       "\n",
       "    .dataframe thead th {\n",
       "        text-align: right;\n",
       "    }\n",
       "</style>\n",
       "<table border=\"1\" class=\"dataframe\">\n",
       "  <thead>\n",
       "    <tr style=\"text-align: right;\">\n",
       "      <th></th>\n",
       "      <th>listing_id</th>\n",
       "      <th>materials</th>\n",
       "    </tr>\n",
       "  </thead>\n",
       "  <tbody>\n",
       "    <tr>\n",
       "      <th>0</th>\n",
       "      <td>648739494.0</td>\n",
       "      <td>NaN</td>\n",
       "    </tr>\n",
       "    <tr>\n",
       "      <th>1</th>\n",
       "      <td>573652142.0</td>\n",
       "      <td>NaN</td>\n",
       "    </tr>\n",
       "    <tr>\n",
       "      <th>2</th>\n",
       "      <td>770666856.0</td>\n",
       "      <td>paper</td>\n",
       "    </tr>\n",
       "    <tr>\n",
       "      <th>3</th>\n",
       "      <td>770666856.0</td>\n",
       "      <td>cardboard</td>\n",
       "    </tr>\n",
       "    <tr>\n",
       "      <th>4</th>\n",
       "      <td>770666856.0</td>\n",
       "      <td>covered wire</td>\n",
       "    </tr>\n",
       "  </tbody>\n",
       "</table>\n",
       "</div>"
      ],
      "text/plain": [
       "    listing_id     materials\n",
       "0  648739494.0           NaN\n",
       "1  573652142.0           NaN\n",
       "2  770666856.0         paper\n",
       "3  770666856.0     cardboard\n",
       "4  770666856.0  covered wire"
      ]
     },
     "execution_count": 5,
     "metadata": {},
     "output_type": "execute_result"
    }
   ],
   "source": [
    "listing_materials.head()"
   ]
  },
  {
   "cell_type": "code",
   "execution_count": 6,
   "metadata": {},
   "outputs": [
    {
     "data": {
      "text/html": [
       "<div>\n",
       "<style scoped>\n",
       "    .dataframe tbody tr th:only-of-type {\n",
       "        vertical-align: middle;\n",
       "    }\n",
       "\n",
       "    .dataframe tbody tr th {\n",
       "        vertical-align: top;\n",
       "    }\n",
       "\n",
       "    .dataframe thead th {\n",
       "        text-align: right;\n",
       "    }\n",
       "</style>\n",
       "<table border=\"1\" class=\"dataframe\">\n",
       "  <thead>\n",
       "    <tr style=\"text-align: right;\">\n",
       "      <th></th>\n",
       "      <th>listing_id</th>\n",
       "      <th>tags</th>\n",
       "    </tr>\n",
       "  </thead>\n",
       "  <tbody>\n",
       "    <tr>\n",
       "      <th>0</th>\n",
       "      <td>648739494.0</td>\n",
       "      <td>gift box filling</td>\n",
       "    </tr>\n",
       "    <tr>\n",
       "      <th>1</th>\n",
       "      <td>648739494.0</td>\n",
       "      <td>gift box wrapping</td>\n",
       "    </tr>\n",
       "    <tr>\n",
       "      <th>2</th>\n",
       "      <td>648739494.0</td>\n",
       "      <td>soft tissue paper</td>\n",
       "    </tr>\n",
       "    <tr>\n",
       "      <th>3</th>\n",
       "      <td>648739494.0</td>\n",
       "      <td>acid free paper</td>\n",
       "    </tr>\n",
       "    <tr>\n",
       "      <th>4</th>\n",
       "      <td>648739494.0</td>\n",
       "      <td>scrapbook paper</td>\n",
       "    </tr>\n",
       "  </tbody>\n",
       "</table>\n",
       "</div>"
      ],
      "text/plain": [
       "    listing_id               tags\n",
       "0  648739494.0   gift box filling\n",
       "1  648739494.0  gift box wrapping\n",
       "2  648739494.0  soft tissue paper\n",
       "3  648739494.0    acid free paper\n",
       "4  648739494.0    scrapbook paper"
      ]
     },
     "execution_count": 6,
     "metadata": {},
     "output_type": "execute_result"
    }
   ],
   "source": [
    "listing_tags.head()"
   ]
  },
  {
   "cell_type": "markdown",
   "metadata": {},
   "source": [
    "### What is the structure of your dataset?\n",
    "\n",
    "This dataset is actually comprised of three seperate tables which can all be joined together using a common \"listing_id\" column. I extracted this data from the Etsy API using various key word searches to only extract the latest crepe paper flower listings. \n",
    "\n",
    "Most data related to the listing description of each individual product is located in the \"listings\" dataframe. For the sake of tidiness, there are separate dataframes for information related to materials and tags (these are both marketplace search terms used to increase the visibility of each listing if they match buyer search times) because these data sometimes repeat listing ids. For example, one listing can have multiple materials listed.\n",
    "\n",
    "The main listings dataset has 4750 listings with 9 variables, split between text and numeric variables.\n",
    "\n",
    "### What is/are the main feature(s) of interest in your dataset?\n",
    "\n",
    "I am mostly interested in how the price of each listing relates to other features that may maximize the price of a certain product.\n",
    "\n",
    "### What features in the dataset do you think will help support your investigation into your feature(s) of interest?\n",
    "\n",
    "I would like to compare the price of products along certain categories, such as whether or not the product is pre-made or made to order, or if the product is meant for wedding celebrations or for simple home decoration or gifts. I predict that these features will be related to the price of the product."
   ]
  },
  {
   "cell_type": "markdown",
   "metadata": {},
   "source": [
    "## Univariate Exploration"
   ]
  },
  {
   "cell_type": "code",
   "execution_count": 7,
   "metadata": {},
   "outputs": [
    {
     "data": {
      "text/plain": [
       "''"
      ]
     },
     "execution_count": 7,
     "metadata": {},
     "output_type": "execute_result"
    },
    {
     "data": {
      "image/png": "[encoded data removed]",
      "text/plain": [
       "<Figure size 1440x720 with 3 Axes>"
      ]
     },
     "metadata": {
      "needs_background": "light"
     },
     "output_type": "display_data"
    }
   ],
   "source": [
    "# Explore price data\n",
    "\n",
    "# Isolate dataset for only price data in USD\n",
    "\n",
    "listings = listings.query('currency_code == \"USD\"')\n",
    "\n",
    "plt.figure(figsize = [20,10])\n",
    "\n",
    "# Initial subplot\n",
    "plt.subplot(2,2,1)\n",
    "plt.hist(data = listings, x = 'price')\n",
    "plt.xlabel('Price (USD)')\n",
    "plt.title('Distribution of Listings by Price', fontsize=15)\n",
    "\n",
    "# Removing outlier data\n",
    "bins = np.arange(0,650,25)\n",
    "plt.subplot(2,2,2)\n",
    "plt.hist(data = listings, x = 'price', bins = bins)\n",
    "plt.xlabel('Price (USD)')\n",
    "plt.title('Distribution of Listings by Price', fontsize=15)\n",
    "plt.xlim(0,600)\n",
    "\n",
    "# Removing outlier data\n",
    "bins = np.arange(0,250,10)\n",
    "plt.subplot(2,2,3)\n",
    "plt.hist(data = listings, x = 'price', bins = bins)\n",
    "plt.xlabel('Price (USD)')\n",
    "plt.title('Distribution of Listings by Price', fontsize=15)\n",
    "plt.xlim(0,200)\n",
    "plt.axvline(listings['price'].median(), color='k', linestyle='dashed', linewidth=1)\n",
    ";"
   ]
  },
  {
   "cell_type": "code",
   "execution_count": 8,
   "metadata": {},
   "outputs": [
    {
     "data": {
      "text/plain": [
       "count    3852.000000\n",
       "mean       48.298624\n",
       "std       133.875408\n",
       "min         0.980000\n",
       "25%        10.325000\n",
       "50%        20.750000\n",
       "75%        48.000000\n",
       "max      4999.900000\n",
       "Name: price, dtype: float64"
      ]
     },
     "execution_count": 8,
     "metadata": {},
     "output_type": "execute_result"
    }
   ],
   "source": [
    "listings.price.describe()"
   ]
  },
  {
   "cell_type": "markdown",
   "metadata": {},
   "source": [
    "The price data is heavily right skewed. As is seen with .describe(), the majority of listings are between $10 and $50 dollars. Going forward, I will analyze a subset of this data for all listings up to $200.00. Specficially, for this subset of data, I want to next look at the avaiability of occasion, material, and tag data for this subset of data."
   ]
  },
  {
   "cell_type": "code",
   "execution_count": 9,
   "metadata": {},
   "outputs": [],
   "source": [
    "# Subset the data for only listings up to $200\n",
    "listings_sub = listings.copy().query('0 < price <= 200')\n",
    "\n",
    "# Subset the remaining datasets\n",
    "listings_sub_materials = listing_materials[listing_materials['listing_id'].isin(listings_sub.listing_id)]\n",
    "listings_sub_tags = listing_tags[listing_tags['listing_id'].isin(listings_sub.listing_id)]"
   ]
  },
  {
   "cell_type": "markdown",
   "metadata": {},
   "source": [
    "#### Explore Materials Dataset"
   ]
  },
  {
   "cell_type": "code",
   "execution_count": 10,
   "metadata": {},
   "outputs": [
    {
     "data": {
      "text/html": [
       "<div>\n",
       "<style scoped>\n",
       "    .dataframe tbody tr th:only-of-type {\n",
       "        vertical-align: middle;\n",
       "    }\n",
       "\n",
       "    .dataframe tbody tr th {\n",
       "        vertical-align: top;\n",
       "    }\n",
       "\n",
       "    .dataframe thead th {\n",
       "        text-align: right;\n",
       "    }\n",
       "</style>\n",
       "<table border=\"1\" class=\"dataframe\">\n",
       "  <thead>\n",
       "    <tr style=\"text-align: right;\">\n",
       "      <th></th>\n",
       "      <th>material</th>\n",
       "      <th>count</th>\n",
       "    </tr>\n",
       "  </thead>\n",
       "  <tbody>\n",
       "    <tr>\n",
       "      <th>0</th>\n",
       "      <td>crepe paper</td>\n",
       "      <td>2125</td>\n",
       "    </tr>\n",
       "    <tr>\n",
       "      <th>1</th>\n",
       "      <td>wire</td>\n",
       "      <td>849</td>\n",
       "    </tr>\n",
       "    <tr>\n",
       "      <th>2</th>\n",
       "      <td>paper</td>\n",
       "      <td>616</td>\n",
       "    </tr>\n",
       "    <tr>\n",
       "      <th>3</th>\n",
       "      <td>glue</td>\n",
       "      <td>331</td>\n",
       "    </tr>\n",
       "    <tr>\n",
       "      <th>4</th>\n",
       "      <td>floral tape</td>\n",
       "      <td>175</td>\n",
       "    </tr>\n",
       "    <tr>\n",
       "      <th>5</th>\n",
       "      <td>italian crepe paper</td>\n",
       "      <td>126</td>\n",
       "    </tr>\n",
       "    <tr>\n",
       "      <th>6</th>\n",
       "      <td>metal stems</td>\n",
       "      <td>125</td>\n",
       "    </tr>\n",
       "    <tr>\n",
       "      <th>7</th>\n",
       "      <td>ribbon</td>\n",
       "      <td>120</td>\n",
       "    </tr>\n",
       "    <tr>\n",
       "      <th>8</th>\n",
       "      <td>paper flower bouquet</td>\n",
       "      <td>119</td>\n",
       "    </tr>\n",
       "    <tr>\n",
       "      <th>9</th>\n",
       "      <td>floral wire</td>\n",
       "      <td>116</td>\n",
       "    </tr>\n",
       "    <tr>\n",
       "      <th>10</th>\n",
       "      <td>wedding bouquet</td>\n",
       "      <td>114</td>\n",
       "    </tr>\n",
       "    <tr>\n",
       "      <th>11</th>\n",
       "      <td>crepe paper flowers</td>\n",
       "      <td>113</td>\n",
       "    </tr>\n",
       "    <tr>\n",
       "      <th>12</th>\n",
       "      <td>paper roses</td>\n",
       "      <td>108</td>\n",
       "    </tr>\n",
       "    <tr>\n",
       "      <th>13</th>\n",
       "      <td>wedding centerpiece</td>\n",
       "      <td>107</td>\n",
       "    </tr>\n",
       "    <tr>\n",
       "      <th>14</th>\n",
       "      <td>bridal bouquet</td>\n",
       "      <td>94</td>\n",
       "    </tr>\n",
       "    <tr>\n",
       "      <th>15</th>\n",
       "      <td>paper tissue</td>\n",
       "      <td>91</td>\n",
       "    </tr>\n",
       "    <tr>\n",
       "      <th>16</th>\n",
       "      <td>string</td>\n",
       "      <td>91</td>\n",
       "    </tr>\n",
       "    <tr>\n",
       "      <th>17</th>\n",
       "      <td>cardstock</td>\n",
       "      <td>87</td>\n",
       "    </tr>\n",
       "    <tr>\n",
       "      <th>18</th>\n",
       "      <td>wedding flower</td>\n",
       "      <td>81</td>\n",
       "    </tr>\n",
       "    <tr>\n",
       "      <th>19</th>\n",
       "      <td>diy dekor</td>\n",
       "      <td>71</td>\n",
       "    </tr>\n",
       "  </tbody>\n",
       "</table>\n",
       "</div>"
      ],
      "text/plain": [
       "                material  count\n",
       "0            crepe paper   2125\n",
       "1                   wire    849\n",
       "2                  paper    616\n",
       "3                   glue    331\n",
       "4            floral tape    175\n",
       "5    italian crepe paper    126\n",
       "6            metal stems    125\n",
       "7                 ribbon    120\n",
       "8   paper flower bouquet    119\n",
       "9            floral wire    116\n",
       "10       wedding bouquet    114\n",
       "11   crepe paper flowers    113\n",
       "12           paper roses    108\n",
       "13   wedding centerpiece    107\n",
       "14        bridal bouquet     94\n",
       "15          paper tissue     91\n",
       "16                string     91\n",
       "17             cardstock     87\n",
       "18        wedding flower     81\n",
       "19             diy dekor     71"
      ]
     },
     "execution_count": 10,
     "metadata": {},
     "output_type": "execute_result"
    }
   ],
   "source": [
    "# There are too many materials to view the distribution of them all, so I will select only the top 20\n",
    "top_materials = listings_sub_materials['materials'].str.lower().value_counts().iloc[:20]\n",
    "top_materials = top_materials.reset_index(name = 'count')\n",
    "top_materials = top_materials.rename(columns = {'index':'material'})\n",
    "top_materials"
   ]
  },
  {
   "cell_type": "code",
   "execution_count": 11,
   "metadata": {},
   "outputs": [
    {
     "data": {
      "text/plain": [
       "''"
      ]
     },
     "execution_count": 11,
     "metadata": {},
     "output_type": "execute_result"
    },
    {
     "data": {
      "image/png": "[encoded data removed]",
      "text/plain": [
       "<Figure size 1440x360 with 1 Axes>"
      ]
     },
     "metadata": {
      "needs_background": "light"
     },
     "output_type": "display_data"
    }
   ],
   "source": [
    "# Visualize the shape of the distribution of materials data\n",
    "plt.figure(figsize = [20,5])\n",
    "plt.bar(data = top_materials, x = 'material', height = 'count', color = sb.color_palette()[0])\n",
    "plt.xlabel('Material')\n",
    "plt.ylabel('Number of Times Label Used')\n",
    "plt.xticks(rotation = 45)\n",
    ";"
   ]
  },
  {
   "cell_type": "markdown",
   "metadata": {},
   "source": [
    "This data is right skewed, which may indicate that the listers do not use a variety of different types of materials labels in their listings - it looks like they are mostly likely to simply use the material tag \"crepe paper\" than any other type of tag. I will try to confirm this in the next plot."
   ]
  },
  {
   "cell_type": "code",
   "execution_count": 12,
   "metadata": {},
   "outputs": [
    {
     "data": {
      "text/html": [
       "<div>\n",
       "<style scoped>\n",
       "    .dataframe tbody tr th:only-of-type {\n",
       "        vertical-align: middle;\n",
       "    }\n",
       "\n",
       "    .dataframe tbody tr th {\n",
       "        vertical-align: top;\n",
       "    }\n",
       "\n",
       "    .dataframe thead th {\n",
       "        text-align: right;\n",
       "    }\n",
       "</style>\n",
       "<table border=\"1\" class=\"dataframe\">\n",
       "  <thead>\n",
       "    <tr style=\"text-align: right;\">\n",
       "      <th></th>\n",
       "      <th>listing_id</th>\n",
       "      <th>count</th>\n",
       "    </tr>\n",
       "  </thead>\n",
       "  <tbody>\n",
       "    <tr>\n",
       "      <th>0</th>\n",
       "      <td>17069328.0</td>\n",
       "      <td>1</td>\n",
       "    </tr>\n",
       "    <tr>\n",
       "      <th>1</th>\n",
       "      <td>26667564.0</td>\n",
       "      <td>1</td>\n",
       "    </tr>\n",
       "    <tr>\n",
       "      <th>2</th>\n",
       "      <td>31344520.0</td>\n",
       "      <td>2</td>\n",
       "    </tr>\n",
       "    <tr>\n",
       "      <th>3</th>\n",
       "      <td>34402837.0</td>\n",
       "      <td>1</td>\n",
       "    </tr>\n",
       "    <tr>\n",
       "      <th>4</th>\n",
       "      <td>34402980.0</td>\n",
       "      <td>1</td>\n",
       "    </tr>\n",
       "    <tr>\n",
       "      <th>...</th>\n",
       "      <td>...</td>\n",
       "      <td>...</td>\n",
       "    </tr>\n",
       "    <tr>\n",
       "      <th>3713</th>\n",
       "      <td>834316917.0</td>\n",
       "      <td>1</td>\n",
       "    </tr>\n",
       "    <tr>\n",
       "      <th>3714</th>\n",
       "      <td>834527529.0</td>\n",
       "      <td>4</td>\n",
       "    </tr>\n",
       "    <tr>\n",
       "      <th>3715</th>\n",
       "      <td>834682025.0</td>\n",
       "      <td>3</td>\n",
       "    </tr>\n",
       "    <tr>\n",
       "      <th>3716</th>\n",
       "      <td>834746759.0</td>\n",
       "      <td>1</td>\n",
       "    </tr>\n",
       "    <tr>\n",
       "      <th>3717</th>\n",
       "      <td>834994965.0</td>\n",
       "      <td>1</td>\n",
       "    </tr>\n",
       "  </tbody>\n",
       "</table>\n",
       "<p>3718 rows × 2 columns</p>\n",
       "</div>"
      ],
      "text/plain": [
       "       listing_id  count\n",
       "0      17069328.0      1\n",
       "1      26667564.0      1\n",
       "2      31344520.0      2\n",
       "3      34402837.0      1\n",
       "4      34402980.0      1\n",
       "...           ...    ...\n",
       "3713  834316917.0      1\n",
       "3714  834527529.0      4\n",
       "3715  834682025.0      3\n",
       "3716  834746759.0      1\n",
       "3717  834994965.0      1\n",
       "\n",
       "[3718 rows x 2 columns]"
      ]
     },
     "execution_count": 12,
     "metadata": {},
     "output_type": "execute_result"
    }
   ],
   "source": [
    "# See distribution of number of tags per listing\n",
    "materials_by_list = listings_sub_materials.groupby('listing_id').size()\n",
    "materials_by_list = materials_by_list.reset_index(name = 'count')\n",
    "materials_by_list"
   ]
  },
  {
   "cell_type": "code",
   "execution_count": 13,
   "metadata": {},
   "outputs": [
    {
     "data": {
      "image/png": "[encoded data removed]",
      "text/plain": [
       "<Figure size 432x288 with 1 Axes>"
      ]
     },
     "metadata": {
      "needs_background": "light"
     },
     "output_type": "display_data"
    }
   ],
   "source": [
    "sb.countplot(data = materials_by_list, x = 'count', color = sb.color_palette()[0]);"
   ]
  },
  {
   "cell_type": "markdown",
   "metadata": {},
   "source": [
    "> As suspected, listings most often use 2 or 1 material tags."
   ]
  },
  {
   "cell_type": "code",
   "execution_count": 14,
   "metadata": {},
   "outputs": [
    {
     "data": {
      "text/plain": [
       "crepe paper                                  242\n",
       "Paper                                        181\n",
       "paper                                         57\n",
       "Premium Quality Crepe Paper                   37\n",
       "Crepe Paper                                   21\n",
       "                                            ... \n",
       "Photo backdrop                                 1\n",
       "Silk                                           1\n",
       "vinyl                                          1\n",
       "Framed Vintage 1920 Halloween Pumpkin          1\n",
       "Vintage Crepes Tissue Paper Wedding Bells      1\n",
       "Name: materials, Length: 66, dtype: int64"
      ]
     },
     "execution_count": 14,
     "metadata": {},
     "output_type": "execute_result"
    }
   ],
   "source": [
    "# And what's the most common single tag?\n",
    "single_tags = materials_by_list[materials_by_list['count'] == 1]\n",
    "listings_sub_materials[listings_sub_materials['listing_id'].isin(single_tags['listing_id'])]['materials'].value_counts()"
   ]
  },
  {
   "cell_type": "markdown",
   "metadata": {},
   "source": [
    "The most common single tag is indeed \"crepe paper\""
   ]
  },
  {
   "cell_type": "markdown",
   "metadata": {},
   "source": [
    "#### Explore 'When Made' Data\n",
    "The 'when_made' column is most used by listers to distinguise between crafts that they've already produced and have posted for sale, or crafts that they will make on demand when customers order the product."
   ]
  },
  {
   "cell_type": "code",
   "execution_count": 15,
   "metadata": {},
   "outputs": [
    {
     "data": {
      "text/plain": [
       "made_to_order    2030\n",
       "2010_2019         717\n",
       "2020_2020         462\n",
       "1950s              84\n",
       "1920s              73\n",
       "before_2001        72\n",
       "2001_2009          60\n",
       "1960s              58\n",
       "1940s              51\n",
       "1930s              27\n",
       "1980s              27\n",
       "1970s              24\n",
       "1990s              10\n",
       "False               7\n",
       "1900s               5\n",
       "1910s               5\n",
       "1800s               5\n",
       "2000_2000           1\n",
       "Name: when_made, dtype: int64"
      ]
     },
     "execution_count": 15,
     "metadata": {},
     "output_type": "execute_result"
    }
   ],
   "source": [
    "listings_sub['when_made'].value_counts()"
   ]
  },
  {
   "cell_type": "markdown",
   "metadata": {},
   "source": [
    "It's interesting to see that the vast majority of products are \"made_to_order\" - but there are also some vintage products."
   ]
  },
  {
   "cell_type": "code",
   "execution_count": 16,
   "metadata": {},
   "outputs": [
    {
     "data": {
      "image/png": "[encoded data removed]",
      "text/plain": [
       "<Figure size 1440x360 with 1 Axes>"
      ]
     },
     "metadata": {
      "needs_background": "light"
     },
     "output_type": "display_data"
    }
   ],
   "source": [
    "# Convert 'when_made' to an ordered category data type\n",
    "when_made = ['made_to_order','2020_2020','2010_2019','2001_2009 ','before_2001','2000_2000','1990s','1980s','1970s',\n",
    "             '1960s','1950s','1940s','1930s','1920s','1910s','1900s','1800s','False']\n",
    "\n",
    "madeclasses = pd.api.types.CategoricalDtype(ordered = True, categories = when_made)\n",
    "\n",
    "listings_sub['when_made'] = listings_sub['when_made'].loc[:].astype(madeclasses)\n",
    "\n",
    "# Plot the distribution of when_made categories\n",
    "plt.figure(figsize = [20,5])\n",
    "sb.countplot(data = listings_sub, x = 'when_made', color = sb.color_palette()[0])\n",
    "plt.xticks(rotation = 45);"
   ]
  },
  {
   "cell_type": "markdown",
   "metadata": {},
   "source": [
    "This confirms that most products are made_to_order - but it's also interesing to see some products made in the early 2000s, which may be descriptive of the time period of the trend for making artificial flowers from crepe paper"
   ]
  },
  {
   "cell_type": "markdown",
   "metadata": {},
   "source": [
    "#### Explore Number of Favorers and Views Data"
   ]
  },
  {
   "cell_type": "code",
   "execution_count": 17,
   "metadata": {},
   "outputs": [
    {
     "data": {
      "text/html": [
       "<div>\n",
       "<style scoped>\n",
       "    .dataframe tbody tr th:only-of-type {\n",
       "        vertical-align: middle;\n",
       "    }\n",
       "\n",
       "    .dataframe tbody tr th {\n",
       "        vertical-align: top;\n",
       "    }\n",
       "\n",
       "    .dataframe thead th {\n",
       "        text-align: right;\n",
       "    }\n",
       "</style>\n",
       "<table border=\"1\" class=\"dataframe\">\n",
       "  <thead>\n",
       "    <tr style=\"text-align: right;\">\n",
       "      <th></th>\n",
       "      <th>listing_id</th>\n",
       "      <th>title</th>\n",
       "      <th>description</th>\n",
       "      <th>price</th>\n",
       "      <th>currency_code</th>\n",
       "      <th>quantity</th>\n",
       "      <th>views</th>\n",
       "      <th>num_favorers</th>\n",
       "      <th>when_made</th>\n",
       "    </tr>\n",
       "  </thead>\n",
       "  <tbody>\n",
       "    <tr>\n",
       "      <th>1</th>\n",
       "      <td>573652142.0</td>\n",
       "      <td>Vintage Christmas Accordion Bell, Vintage Red ...</td>\n",
       "      <td>Vintage Christmas Accordion Bell, Vintage Red ...</td>\n",
       "      <td>6.97</td>\n",
       "      <td>USD</td>\n",
       "      <td>2.0</td>\n",
       "      <td>93.0</td>\n",
       "      <td>12.0</td>\n",
       "      <td>1950s</td>\n",
       "    </tr>\n",
       "    <tr>\n",
       "      <th>6</th>\n",
       "      <td>603071001.0</td>\n",
       "      <td>Crepe paper peonies stem Paper anniversary Peo...</td>\n",
       "      <td>Perfect for any occasion! A great way to make ...</td>\n",
       "      <td>30.00</td>\n",
       "      <td>USD</td>\n",
       "      <td>2.0</td>\n",
       "      <td>388.0</td>\n",
       "      <td>41.0</td>\n",
       "      <td>made_to_order</td>\n",
       "    </tr>\n",
       "    <tr>\n",
       "      <th>7</th>\n",
       "      <td>672229650.0</td>\n",
       "      <td>Set of 3 Purple Paper Helleborus - Paper Flowe...</td>\n",
       "      <td>Freshen up and brighten your home or office wi...</td>\n",
       "      <td>68.00</td>\n",
       "      <td>USD</td>\n",
       "      <td>1.0</td>\n",
       "      <td>122.0</td>\n",
       "      <td>21.0</td>\n",
       "      <td>2020_2020</td>\n",
       "    </tr>\n",
       "    <tr>\n",
       "      <th>8</th>\n",
       "      <td>585898784.0</td>\n",
       "      <td>Snowdrops Bouquet - Crepe Paper Flowers - Pape...</td>\n",
       "      <td>Freshen up and brighten your home or office wi...</td>\n",
       "      <td>98.00</td>\n",
       "      <td>USD</td>\n",
       "      <td>1.0</td>\n",
       "      <td>1170.0</td>\n",
       "      <td>40.0</td>\n",
       "      <td>2010_2019</td>\n",
       "    </tr>\n",
       "    <tr>\n",
       "      <th>9</th>\n",
       "      <td>585836036.0</td>\n",
       "      <td>Set of 3 Pink Open Paper Ranunculus - Pink Ran...</td>\n",
       "      <td>The Ranunculus Paper Flowers are suitablе to b...</td>\n",
       "      <td>45.00</td>\n",
       "      <td>USD</td>\n",
       "      <td>1.0</td>\n",
       "      <td>170.0</td>\n",
       "      <td>13.0</td>\n",
       "      <td>2010_2019</td>\n",
       "    </tr>\n",
       "  </tbody>\n",
       "</table>\n",
       "</div>"
      ],
      "text/plain": [
       "    listing_id                                              title  \\\n",
       "1  573652142.0  Vintage Christmas Accordion Bell, Vintage Red ...   \n",
       "6  603071001.0  Crepe paper peonies stem Paper anniversary Peo...   \n",
       "7  672229650.0  Set of 3 Purple Paper Helleborus - Paper Flowe...   \n",
       "8  585898784.0  Snowdrops Bouquet - Crepe Paper Flowers - Pape...   \n",
       "9  585836036.0  Set of 3 Pink Open Paper Ranunculus - Pink Ran...   \n",
       "\n",
       "                                         description  price currency_code  \\\n",
       "1  Vintage Christmas Accordion Bell, Vintage Red ...   6.97           USD   \n",
       "6  Perfect for any occasion! A great way to make ...  30.00           USD   \n",
       "7  Freshen up and brighten your home or office wi...  68.00           USD   \n",
       "8  Freshen up and brighten your home or office wi...  98.00           USD   \n",
       "9  The Ranunculus Paper Flowers are suitablе to b...  45.00           USD   \n",
       "\n",
       "   quantity   views  num_favorers      when_made  \n",
       "1       2.0    93.0          12.0          1950s  \n",
       "6       2.0   388.0          41.0  made_to_order  \n",
       "7       1.0   122.0          21.0      2020_2020  \n",
       "8       1.0  1170.0          40.0      2010_2019  \n",
       "9       1.0   170.0          13.0      2010_2019  "
      ]
     },
     "execution_count": 17,
     "metadata": {},
     "output_type": "execute_result"
    }
   ],
   "source": [
    "listings_sub.head()"
   ]
  },
  {
   "cell_type": "code",
   "execution_count": 18,
   "metadata": {},
   "outputs": [
    {
     "data": {
      "text/plain": [
       "count     3718.000000\n",
       "mean       434.294244\n",
       "std       1745.710214\n",
       "min          0.000000\n",
       "25%         18.000000\n",
       "50%         78.000000\n",
       "75%        297.000000\n",
       "max      45850.000000\n",
       "Name: views, dtype: float64"
      ]
     },
     "execution_count": 18,
     "metadata": {},
     "output_type": "execute_result"
    }
   ],
   "source": [
    "listings_sub.views.describe()"
   ]
  },
  {
   "cell_type": "code",
   "execution_count": 19,
   "metadata": {},
   "outputs": [
    {
     "name": "stderr",
     "output_type": "stream",
     "text": [
      "/Users/kristinafrazier/opt/anaconda3/lib/python3.7/site-packages/pandas/core/series.py:726: RuntimeWarning: divide by zero encountered in log10\n",
      "  result = getattr(ufunc, method)(*inputs, **kwargs)\n"
     ]
    },
    {
     "data": {
      "text/plain": [
       "count    3.570309\n",
       "mean     2.637784\n",
       "std      3.241972\n",
       "min          -inf\n",
       "25%      1.255273\n",
       "50%      1.892095\n",
       "75%      2.472756\n",
       "max      4.661339\n",
       "Name: views, dtype: float64"
      ]
     },
     "execution_count": 19,
     "metadata": {},
     "output_type": "execute_result"
    }
   ],
   "source": [
    "np.log10(listings_sub.views.describe())\n",
    "# Throws an error because the minumum is 0, and Log base 10 of 0 is undefined"
   ]
  },
  {
   "cell_type": "code",
   "execution_count": 20,
   "metadata": {},
   "outputs": [
    {
     "data": {
      "text/plain": [
       "''"
      ]
     },
     "execution_count": 20,
     "metadata": {},
     "output_type": "execute_result"
    },
    {
     "data": {
      "image/png": "[encoded data removed]",
      "text/plain": [
       "<Figure size 1440x360 with 3 Axes>"
      ]
     },
     "metadata": {
      "needs_background": "light"
     },
     "output_type": "display_data"
    }
   ],
   "source": [
    "# Distribution of Views\n",
    "plt.figure(figsize = [20,5])\n",
    "\n",
    "# All Data\n",
    "plt.subplot(1,3,1)\n",
    "plt.hist(data = listings_sub, x = 'views')\n",
    "plt.ylabel('Number of Views')\n",
    "\n",
    "# Subset of data\n",
    "plt.subplot(1,3,2)\n",
    "bins = np.arange(0,2000+100,50)\n",
    "ticks = np.arange(0,2000,100)\n",
    "plt.hist(data = listings_sub, x = 'views', bins = bins)\n",
    "plt.xlim(0,2000)\n",
    "plt.xticks(ticks,rotation = 90)\n",
    "\n",
    "# Log transformation\n",
    "plt.subplot(1,3,3)\n",
    "bins = 10 ** np.arange(0.1, 5+0.1, 0.1)\n",
    "plt.hist(data = listings_sub, x = 'views', bins = bins)\n",
    "ticks = [10, 100, 1000, 10000, 10000]\n",
    "labels = ['{}'.format(v) for v in ticks]\n",
    "plt.xscale('log')\n",
    "plt.xticks(ticks, labels)\n",
    ";"
   ]
  },
  {
   "cell_type": "markdown",
   "metadata": {},
   "source": [
    " With the log transformation, it's easier to visualize the mean number of views to be around Log10 Base 2, which is around 200 views. But the linear plots show that the majority of listings had about 50 views.\n",
    "\n",
    "There could be several reasons by there is a right skew to this data. Most listings have less views - but I cannot tell if this is because some products are just naturally more attractive to searchers of the Etsy marketplace, or if it's because there is a recency bias in the data - having more listings in this dataset which are more recently posted. And unfortunately, I did not extract original listing date (I'm not even sure that the Etsy API provides this data at all). The latter conclusion would be supported by seeing the distribution of listings by length of time listed in the marketplace."
   ]
  },
  {
   "cell_type": "code",
   "execution_count": 21,
   "metadata": {},
   "outputs": [
    {
     "data": {
      "text/plain": [
       "count    3718.000000\n",
       "mean       52.816030\n",
       "std       175.035524\n",
       "min         0.000000\n",
       "25%         2.000000\n",
       "50%         9.000000\n",
       "75%        26.000000\n",
       "max      2464.000000\n",
       "Name: num_favorers, dtype: float64"
      ]
     },
     "execution_count": 21,
     "metadata": {},
     "output_type": "execute_result"
    }
   ],
   "source": [
    "listings_sub.num_favorers.describe()"
   ]
  },
  {
   "cell_type": "code",
   "execution_count": 22,
   "metadata": {},
   "outputs": [
    {
     "data": {
      "text/plain": [
       "count    3.570309\n",
       "mean     1.722766\n",
       "std      2.243126\n",
       "min          -inf\n",
       "25%      0.301030\n",
       "50%      0.954243\n",
       "75%      1.414973\n",
       "max      3.391641\n",
       "Name: num_favorers, dtype: float64"
      ]
     },
     "execution_count": 22,
     "metadata": {},
     "output_type": "execute_result"
    }
   ],
   "source": [
    "np.log10(listings_sub.num_favorers.describe())\n",
    "# The minumum is 0, and Log base 10 of 0 is undefined"
   ]
  },
  {
   "cell_type": "code",
   "execution_count": 23,
   "metadata": {},
   "outputs": [
    {
     "data": {
      "text/plain": [
       "''"
      ]
     },
     "execution_count": 23,
     "metadata": {},
     "output_type": "execute_result"
    },
    {
     "data": {
      "image/png": "[encoded data removed]",
      "text/plain": [
       "<Figure size 1440x360 with 3 Axes>"
      ]
     },
     "metadata": {
      "needs_background": "light"
     },
     "output_type": "display_data"
    }
   ],
   "source": [
    "# Distribution of Num_Favorers\n",
    "plt.figure(figsize = [20,5])\n",
    "\n",
    "# All Data\n",
    "plt.subplot(1,3,1)\n",
    "plt.hist(data = listings_sub, x = 'num_favorers')\n",
    "plt.ylabel('Number of Favorers')\n",
    "\n",
    "# Subset of data\n",
    "plt.subplot(1,3,2)\n",
    "bins = np.arange(0,600+100,50)\n",
    "ticks = np.arange(0,600,50)\n",
    "plt.hist(data = listings_sub, x = 'num_favorers', bins = bins)\n",
    "plt.xlim(0,600)\n",
    "plt.xticks(ticks,rotation = 90)\n",
    "\n",
    "# Log transformation\n",
    "plt.subplot(1,3,3)\n",
    "bins = 10 ** np.arange(0.1, 4+0.1, 0.1)\n",
    "plt.hist(data = listings_sub, x = 'num_favorers', bins = bins)\n",
    "ticks = [10, 100, 1000, 10000]\n",
    "labels = ['{}'.format(v) for v in ticks]\n",
    "plt.xscale('log')\n",
    "plt.xticks(ticks, labels)\n",
    ";"
   ]
  },
  {
   "cell_type": "markdown",
   "metadata": {},
   "source": [
    "As stated with the visualization of views data, it's not easy to determine the cause of the right skew of this favorite data without having more information about when the listings were first posted. We could assume that the dataset has a recency bias in favor of shorter amounts of time when listed on the dataset. In that case, it would make sense that most listings have fewer favorites because then you would assume that the long tail of higher favorites represents listings which haven't sold yet and have been on the market longer that listings with less favorites. And the right skew is being caused by sellers removing listings which don't sell after a long period of time - thus you'd see less listings with high favorites (which are really just listings that have been on the market longer.)"
   ]
  },
  {
   "cell_type": "markdown",
   "metadata": {},
   "source": [
    "### Discuss the distribution(s) of your variable(s) of interest. Were there any unusual points? Did you need to perform any transformations?\n",
    "\n",
    "Above, I explore the distribution of prices, materials tags,'when_made' categories, number of views and favorites of listings. All of these distrubutions were right-skewed, suggesting strong trends toward popular price points, materials used, and 'when_made' categories, as well as a potential original listing date recency bias represented by tghe distrubutions of number of favorites and views. For distrubutions with strong right skews, I performed log transformations.\n",
    "\n",
    "### Of the features you investigated, were there any unusual distributions? Did you perform any operations on the data to tidy, adjust, or change the form of the data? If so, why did you do this?\n",
    "\n",
    "I did need to adjust the materials tag data to make all tags lower case to be able to show appropriate distributions of the tags (i.e. the original dataset listed 'crepe Paper' and 'Crepe Paper' tags as separate categories.) I also found it useful to convert the 'when_made' column to an ordered category data type.\n",
    "\n",
    "Additionally, the number of views and favorites right-skewed distributions were unusual and hard to explain. I wish this dataset included original listing dates to be able to determine if these skews could be explained by length of time on the market of each listing."
   ]
  },
  {
   "cell_type": "markdown",
   "metadata": {},
   "source": [
    "## Bivariate Exploration\n",
    "\n",
    "In this section, investigate relationships between pairs of variables in your\n",
    "data. Make sure the variables that you cover here have been introduced in some\n",
    "fashion in the previous section (univariate exploration)."
   ]
  },
  {
   "cell_type": "markdown",
   "metadata": {},
   "source": [
    "#### Relationship between Price and When Made"
   ]
  },
  {
   "cell_type": "code",
   "execution_count": 24,
   "metadata": {},
   "outputs": [
    {
     "data": {
      "text/plain": [
       "''"
      ]
     },
     "execution_count": 24,
     "metadata": {},
     "output_type": "execute_result"
    },
    {
     "data": {
      "image/png": "[encoded data removed]",
      "text/plain": [
       "<Figure size 1440x360 with 1 Axes>"
      ]
     },
     "metadata": {
      "needs_background": "light"
     },
     "output_type": "display_data"
    }
   ],
   "source": [
    "plt.figure(figsize = [20,5])\n",
    "sb.violinplot(data = listings_sub, x = \"when_made\", y = \"price\")\n",
    "plt.xticks(rotation = 45)\n",
    ";"
   ]
  },
  {
   "cell_type": "markdown",
   "metadata": {},
   "source": [
    "Price variations tend to widen the older a product is."
   ]
  },
  {
   "cell_type": "markdown",
   "metadata": {},
   "source": [
    "#### Compare Number of Favorers with Views"
   ]
  },
  {
   "cell_type": "code",
   "execution_count": 25,
   "metadata": {},
   "outputs": [
    {
     "data": {
      "text/plain": [
       "''"
      ]
     },
     "execution_count": 25,
     "metadata": {},
     "output_type": "execute_result"
    },
    {
     "data": {
      "image/png": "[encoded data removed]",
      "text/plain": [
       "<Figure size 432x288 with 1 Axes>"
      ]
     },
     "metadata": {
      "needs_background": "light"
     },
     "output_type": "display_data"
    }
   ],
   "source": [
    "sb.regplot(data = listings_sub, x = 'num_favorers', y = 'views', scatter_kws={'alpha':0.1})\n",
    "plt.xlabel('Number of Favorers')\n",
    "plt.ylabel('Views')\n",
    "plt.xlim(0,100)\n",
    "plt.ylim(0,1000)\n",
    ";"
   ]
  },
  {
   "cell_type": "code",
   "execution_count": 26,
   "metadata": {},
   "outputs": [
    {
     "data": {
      "text/html": [
       "<div>\n",
       "<style scoped>\n",
       "    .dataframe tbody tr th:only-of-type {\n",
       "        vertical-align: middle;\n",
       "    }\n",
       "\n",
       "    .dataframe tbody tr th {\n",
       "        vertical-align: top;\n",
       "    }\n",
       "\n",
       "    .dataframe thead th {\n",
       "        text-align: right;\n",
       "    }\n",
       "</style>\n",
       "<table border=\"1\" class=\"dataframe\">\n",
       "  <thead>\n",
       "    <tr style=\"text-align: right;\">\n",
       "      <th></th>\n",
       "      <th>listing_id</th>\n",
       "      <th>title</th>\n",
       "      <th>description</th>\n",
       "      <th>price</th>\n",
       "      <th>currency_code</th>\n",
       "      <th>quantity</th>\n",
       "      <th>views</th>\n",
       "      <th>num_favorers</th>\n",
       "      <th>when_made</th>\n",
       "    </tr>\n",
       "  </thead>\n",
       "  <tbody>\n",
       "    <tr>\n",
       "      <th>1</th>\n",
       "      <td>573652142.0</td>\n",
       "      <td>Vintage Christmas Accordion Bell, Vintage Red ...</td>\n",
       "      <td>Vintage Christmas Accordion Bell, Vintage Red ...</td>\n",
       "      <td>6.97</td>\n",
       "      <td>USD</td>\n",
       "      <td>2.0</td>\n",
       "      <td>93.0</td>\n",
       "      <td>12.0</td>\n",
       "      <td>1950s</td>\n",
       "    </tr>\n",
       "    <tr>\n",
       "      <th>6</th>\n",
       "      <td>603071001.0</td>\n",
       "      <td>Crepe paper peonies stem Paper anniversary Peo...</td>\n",
       "      <td>Perfect for any occasion! A great way to make ...</td>\n",
       "      <td>30.00</td>\n",
       "      <td>USD</td>\n",
       "      <td>2.0</td>\n",
       "      <td>388.0</td>\n",
       "      <td>41.0</td>\n",
       "      <td>made_to_order</td>\n",
       "    </tr>\n",
       "    <tr>\n",
       "      <th>7</th>\n",
       "      <td>672229650.0</td>\n",
       "      <td>Set of 3 Purple Paper Helleborus - Paper Flowe...</td>\n",
       "      <td>Freshen up and brighten your home or office wi...</td>\n",
       "      <td>68.00</td>\n",
       "      <td>USD</td>\n",
       "      <td>1.0</td>\n",
       "      <td>122.0</td>\n",
       "      <td>21.0</td>\n",
       "      <td>2020_2020</td>\n",
       "    </tr>\n",
       "    <tr>\n",
       "      <th>8</th>\n",
       "      <td>585898784.0</td>\n",
       "      <td>Snowdrops Bouquet - Crepe Paper Flowers - Pape...</td>\n",
       "      <td>Freshen up and brighten your home or office wi...</td>\n",
       "      <td>98.00</td>\n",
       "      <td>USD</td>\n",
       "      <td>1.0</td>\n",
       "      <td>1170.0</td>\n",
       "      <td>40.0</td>\n",
       "      <td>2010_2019</td>\n",
       "    </tr>\n",
       "    <tr>\n",
       "      <th>9</th>\n",
       "      <td>585836036.0</td>\n",
       "      <td>Set of 3 Pink Open Paper Ranunculus - Pink Ran...</td>\n",
       "      <td>The Ranunculus Paper Flowers are suitablе to b...</td>\n",
       "      <td>45.00</td>\n",
       "      <td>USD</td>\n",
       "      <td>1.0</td>\n",
       "      <td>170.0</td>\n",
       "      <td>13.0</td>\n",
       "      <td>2010_2019</td>\n",
       "    </tr>\n",
       "  </tbody>\n",
       "</table>\n",
       "</div>"
      ],
      "text/plain": [
       "    listing_id                                              title  \\\n",
       "1  573652142.0  Vintage Christmas Accordion Bell, Vintage Red ...   \n",
       "6  603071001.0  Crepe paper peonies stem Paper anniversary Peo...   \n",
       "7  672229650.0  Set of 3 Purple Paper Helleborus - Paper Flowe...   \n",
       "8  585898784.0  Snowdrops Bouquet - Crepe Paper Flowers - Pape...   \n",
       "9  585836036.0  Set of 3 Pink Open Paper Ranunculus - Pink Ran...   \n",
       "\n",
       "                                         description  price currency_code  \\\n",
       "1  Vintage Christmas Accordion Bell, Vintage Red ...   6.97           USD   \n",
       "6  Perfect for any occasion! A great way to make ...  30.00           USD   \n",
       "7  Freshen up and brighten your home or office wi...  68.00           USD   \n",
       "8  Freshen up and brighten your home or office wi...  98.00           USD   \n",
       "9  The Ranunculus Paper Flowers are suitablе to b...  45.00           USD   \n",
       "\n",
       "   quantity   views  num_favorers      when_made  \n",
       "1       2.0    93.0          12.0          1950s  \n",
       "6       2.0   388.0          41.0  made_to_order  \n",
       "7       1.0   122.0          21.0      2020_2020  \n",
       "8       1.0  1170.0          40.0      2010_2019  \n",
       "9       1.0   170.0          13.0      2010_2019  "
      ]
     },
     "execution_count": 26,
     "metadata": {},
     "output_type": "execute_result"
    }
   ],
   "source": [
    "listings_sub.head()"
   ]
  },
  {
   "cell_type": "markdown",
   "metadata": {},
   "source": [
    "There is a slight positive correlation between number of views and favorites."
   ]
  },
  {
   "cell_type": "markdown",
   "metadata": {},
   "source": [
    "#### Average Price by Material Type - Comparing Wedding Products with Non-Wedding Products"
   ]
  },
  {
   "cell_type": "code",
   "execution_count": 27,
   "metadata": {},
   "outputs": [
    {
     "data": {
      "text/html": [
       "<div>\n",
       "<style scoped>\n",
       "    .dataframe tbody tr th:only-of-type {\n",
       "        vertical-align: middle;\n",
       "    }\n",
       "\n",
       "    .dataframe tbody tr th {\n",
       "        vertical-align: top;\n",
       "    }\n",
       "\n",
       "    .dataframe thead th {\n",
       "        text-align: right;\n",
       "    }\n",
       "</style>\n",
       "<table border=\"1\" class=\"dataframe\">\n",
       "  <thead>\n",
       "    <tr style=\"text-align: right;\">\n",
       "      <th></th>\n",
       "      <th>listing_id</th>\n",
       "      <th>title</th>\n",
       "      <th>description</th>\n",
       "      <th>price</th>\n",
       "      <th>currency_code</th>\n",
       "      <th>quantity</th>\n",
       "      <th>views</th>\n",
       "      <th>num_favorers</th>\n",
       "      <th>when_made</th>\n",
       "      <th>weddings</th>\n",
       "    </tr>\n",
       "  </thead>\n",
       "  <tbody>\n",
       "    <tr>\n",
       "      <th>1</th>\n",
       "      <td>573652142.0</td>\n",
       "      <td>Vintage Christmas Accordion Bell, Vintage Red ...</td>\n",
       "      <td>Vintage Christmas Accordion Bell, Vintage Red ...</td>\n",
       "      <td>6.97</td>\n",
       "      <td>USD</td>\n",
       "      <td>2.0</td>\n",
       "      <td>93.0</td>\n",
       "      <td>12.0</td>\n",
       "      <td>1950s</td>\n",
       "      <td>False</td>\n",
       "    </tr>\n",
       "    <tr>\n",
       "      <th>6</th>\n",
       "      <td>603071001.0</td>\n",
       "      <td>Crepe paper peonies stem Paper anniversary Peo...</td>\n",
       "      <td>Perfect for any occasion! A great way to make ...</td>\n",
       "      <td>30.00</td>\n",
       "      <td>USD</td>\n",
       "      <td>2.0</td>\n",
       "      <td>388.0</td>\n",
       "      <td>41.0</td>\n",
       "      <td>made_to_order</td>\n",
       "      <td>True</td>\n",
       "    </tr>\n",
       "    <tr>\n",
       "      <th>7</th>\n",
       "      <td>672229650.0</td>\n",
       "      <td>Set of 3 Purple Paper Helleborus - Paper Flowe...</td>\n",
       "      <td>Freshen up and brighten your home or office wi...</td>\n",
       "      <td>68.00</td>\n",
       "      <td>USD</td>\n",
       "      <td>1.0</td>\n",
       "      <td>122.0</td>\n",
       "      <td>21.0</td>\n",
       "      <td>2020_2020</td>\n",
       "      <td>False</td>\n",
       "    </tr>\n",
       "    <tr>\n",
       "      <th>8</th>\n",
       "      <td>585898784.0</td>\n",
       "      <td>Snowdrops Bouquet - Crepe Paper Flowers - Pape...</td>\n",
       "      <td>Freshen up and brighten your home or office wi...</td>\n",
       "      <td>98.00</td>\n",
       "      <td>USD</td>\n",
       "      <td>1.0</td>\n",
       "      <td>1170.0</td>\n",
       "      <td>40.0</td>\n",
       "      <td>2010_2019</td>\n",
       "      <td>False</td>\n",
       "    </tr>\n",
       "    <tr>\n",
       "      <th>9</th>\n",
       "      <td>585836036.0</td>\n",
       "      <td>Set of 3 Pink Open Paper Ranunculus - Pink Ran...</td>\n",
       "      <td>The Ranunculus Paper Flowers are suitablе to b...</td>\n",
       "      <td>45.00</td>\n",
       "      <td>USD</td>\n",
       "      <td>1.0</td>\n",
       "      <td>170.0</td>\n",
       "      <td>13.0</td>\n",
       "      <td>2010_2019</td>\n",
       "      <td>False</td>\n",
       "    </tr>\n",
       "  </tbody>\n",
       "</table>\n",
       "</div>"
      ],
      "text/plain": [
       "    listing_id                                              title  \\\n",
       "1  573652142.0  Vintage Christmas Accordion Bell, Vintage Red ...   \n",
       "6  603071001.0  Crepe paper peonies stem Paper anniversary Peo...   \n",
       "7  672229650.0  Set of 3 Purple Paper Helleborus - Paper Flowe...   \n",
       "8  585898784.0  Snowdrops Bouquet - Crepe Paper Flowers - Pape...   \n",
       "9  585836036.0  Set of 3 Pink Open Paper Ranunculus - Pink Ran...   \n",
       "\n",
       "                                         description  price currency_code  \\\n",
       "1  Vintage Christmas Accordion Bell, Vintage Red ...   6.97           USD   \n",
       "6  Perfect for any occasion! A great way to make ...  30.00           USD   \n",
       "7  Freshen up and brighten your home or office wi...  68.00           USD   \n",
       "8  Freshen up and brighten your home or office wi...  98.00           USD   \n",
       "9  The Ranunculus Paper Flowers are suitablе to b...  45.00           USD   \n",
       "\n",
       "   quantity   views  num_favorers      when_made  weddings  \n",
       "1       2.0    93.0          12.0          1950s     False  \n",
       "6       2.0   388.0          41.0  made_to_order      True  \n",
       "7       1.0   122.0          21.0      2020_2020     False  \n",
       "8       1.0  1170.0          40.0      2010_2019     False  \n",
       "9       1.0   170.0          13.0      2010_2019     False  "
      ]
     },
     "execution_count": 27,
     "metadata": {},
     "output_type": "execute_result"
    }
   ],
   "source": [
    "# Create a new column that identifies whether or not a product is for weddings or not.\n",
    "wedding_products = listings['description'].str.contains(r'wedding|bridal|bride')\n",
    "listings['weddings'] = wedding_products\n",
    "listings_sub = listings.copy().query('0 < price <= 200')\n",
    "listings_sub.head()"
   ]
  },
  {
   "cell_type": "code",
   "execution_count": 28,
   "metadata": {},
   "outputs": [
    {
     "data": {
      "text/plain": [
       "False    2485\n",
       "True     1233\n",
       "Name: weddings, dtype: int64"
      ]
     },
     "execution_count": 28,
     "metadata": {},
     "output_type": "execute_result"
    }
   ],
   "source": [
    "listings_sub.weddings.value_counts()"
   ]
  },
  {
   "cell_type": "code",
   "execution_count": 29,
   "metadata": {},
   "outputs": [
    {
     "data": {
      "text/plain": [
       "''"
      ]
     },
     "execution_count": 29,
     "metadata": {},
     "output_type": "execute_result"
    },
    {
     "data": {
      "image/png": "[encoded data removed]",
      "text/plain": [
       "<Figure size 720x360 with 1 Axes>"
      ]
     },
     "metadata": {
      "needs_background": "light"
     },
     "output_type": "display_data"
    }
   ],
   "source": [
    "plt.figure(figsize = [10,5])\n",
    "sb.boxplot(data = listings_sub, x = \"weddings\", y = \"price\")\n",
    "plt.xticks(rotation = 45)\n",
    ";"
   ]
  },
  {
   "cell_type": "code",
   "execution_count": 30,
   "metadata": {},
   "outputs": [
    {
     "data": {
      "text/plain": [
       "''"
      ]
     },
     "execution_count": 30,
     "metadata": {},
     "output_type": "execute_result"
    },
    {
     "data": {
      "image/png": "[encoded data removed]",
      "text/plain": [
       "<Figure size 720x360 with 1 Axes>"
      ]
     },
     "metadata": {
      "needs_background": "light"
     },
     "output_type": "display_data"
    }
   ],
   "source": [
    "plt.figure(figsize = [10,5])\n",
    "sb.violinplot(data = listings_sub, x = \"weddings\", y = \"price\")\n",
    "plt.xticks(rotation = 45)\n",
    ";"
   ]
  },
  {
   "cell_type": "markdown",
   "metadata": {},
   "source": [
    "On average, wedding products have higher mean prices."
   ]
  },
  {
   "cell_type": "markdown",
   "metadata": {},
   "source": [
    "### Talk about some of the relationships you observed in this part of the investigation. How did the feature(s) of interest vary with other features in the dataset?\n",
    "\n",
    "It was a little surprising to see that number of favorers didn't track a little stronger with number of views. It was not surprising to see wider price variations for vintage products because these products may be in various conditions. Particularly with this plot, you can also see a slightly higher mean for products that are made to order versus pre-made products (compared to products made after 2020).\n",
    "\n",
    "### Did you observe any interesting relationships between the other features (not the main feature(s) of interest)?\n",
    "\n",
    "I only observed relationships between variables on interests, but it was interesting to discover how many products were available for weddings."
   ]
  },
  {
   "cell_type": "markdown",
   "metadata": {},
   "source": [
    "## Multivariate Exploration\n"
   ]
  },
  {
   "cell_type": "markdown",
   "metadata": {},
   "source": [
    "### Compare average prices of Made to Order and Premade Products, for wedding and non-wedding products"
   ]
  },
  {
   "cell_type": "code",
   "execution_count": 31,
   "metadata": {},
   "outputs": [],
   "source": [
    "# Reinstating the encoding of categorical data types for when_made column\n",
    "when_made = ['made_to_order','2020_2020','2010_2019','2001_2009 ','before_2001','2000_2000','1990s','1980s','1970s',\n",
    "             '1960s','1950s','1940s','1930s','1920s','1910s','1900s','1800s','False']\n",
    "\n",
    "madeclasses = pd.api.types.CategoricalDtype(ordered = True, categories = when_made)\n",
    "\n",
    "listings_sub['when_made'] = listings_sub['when_made'].loc[:].astype(madeclasses)"
   ]
  },
  {
   "cell_type": "code",
   "execution_count": 32,
   "metadata": {},
   "outputs": [
    {
     "name": "stdout",
     "output_type": "stream",
     "text": [
      "<class 'pandas.core.frame.DataFrame'>\n",
      "Int64Index: 3718 entries, 1 to 4749\n",
      "Data columns (total 10 columns):\n",
      " #   Column         Non-Null Count  Dtype   \n",
      "---  ------         --------------  -----   \n",
      " 0   listing_id     3718 non-null   float64 \n",
      " 1   title          3718 non-null   object  \n",
      " 2   description    3718 non-null   object  \n",
      " 3   price          3718 non-null   float64 \n",
      " 4   currency_code  3718 non-null   object  \n",
      " 5   quantity       3718 non-null   float64 \n",
      " 6   views          3718 non-null   float64 \n",
      " 7   num_favorers   3718 non-null   float64 \n",
      " 8   when_made      3658 non-null   category\n",
      " 9   weddings       3718 non-null   bool    \n",
      "dtypes: bool(1), category(1), float64(5), object(3)\n",
      "memory usage: 429.4+ KB\n"
     ]
    }
   ],
   "source": [
    "listings_sub.info()"
   ]
  },
  {
   "cell_type": "code",
   "execution_count": 33,
   "metadata": {},
   "outputs": [],
   "source": [
    "listings_sub['when_made_sum'] = listings_sub['when_made'].replace(to_replace = {'2020_2020': 'premade',\n",
    "                                                                                '2010_2019': 'premade',\n",
    "                                                                                '2001_2009': 'premade',\n",
    "                                                                                'before_2001': 'premade',\n",
    "                                                                                '2000_2000': 'premade',\n",
    "                                                                                '1990s': 'premade',\n",
    "                                                                                '1980s': 'premade',\n",
    "                                                                                '1970s': 'premade',\n",
    "                                                                                '1960s': 'premade',\n",
    "                                                                                '1950s': 'premade',\n",
    "                                                                                '1940s': 'premade',\n",
    "                                                                                '1930s': 'premade',\n",
    "                                                                                '1920s': 'premade',\n",
    "                                                                                '1910s': 'premade',\n",
    "                                                                                '1900s': 'premade',\n",
    "                                                                                '1800s': 'premade'})"
   ]
  },
  {
   "cell_type": "code",
   "execution_count": 34,
   "metadata": {},
   "outputs": [
    {
     "data": {
      "text/plain": [
       "made_to_order    2030\n",
       "premade          1621\n",
       "False               7\n",
       "Name: when_made_sum, dtype: int64"
      ]
     },
     "execution_count": 34,
     "metadata": {},
     "output_type": "execute_result"
    }
   ],
   "source": [
    "listings_sub['when_made_sum'].value_counts()"
   ]
  },
  {
   "cell_type": "code",
   "execution_count": 35,
   "metadata": {},
   "outputs": [
    {
     "data": {
      "text/html": [
       "<div>\n",
       "<style scoped>\n",
       "    .dataframe tbody tr th:only-of-type {\n",
       "        vertical-align: middle;\n",
       "    }\n",
       "\n",
       "    .dataframe tbody tr th {\n",
       "        vertical-align: top;\n",
       "    }\n",
       "\n",
       "    .dataframe thead th {\n",
       "        text-align: right;\n",
       "    }\n",
       "</style>\n",
       "<table border=\"1\" class=\"dataframe\">\n",
       "  <thead>\n",
       "    <tr style=\"text-align: right;\">\n",
       "      <th></th>\n",
       "      <th>listing_id</th>\n",
       "      <th>title</th>\n",
       "      <th>description</th>\n",
       "      <th>price</th>\n",
       "      <th>currency_code</th>\n",
       "      <th>quantity</th>\n",
       "      <th>views</th>\n",
       "      <th>num_favorers</th>\n",
       "      <th>when_made</th>\n",
       "      <th>weddings</th>\n",
       "      <th>when_made_sum</th>\n",
       "    </tr>\n",
       "  </thead>\n",
       "  <tbody>\n",
       "    <tr>\n",
       "      <th>1</th>\n",
       "      <td>573652142.0</td>\n",
       "      <td>Vintage Christmas Accordion Bell, Vintage Red ...</td>\n",
       "      <td>Vintage Christmas Accordion Bell, Vintage Red ...</td>\n",
       "      <td>6.97</td>\n",
       "      <td>USD</td>\n",
       "      <td>2.0</td>\n",
       "      <td>93.0</td>\n",
       "      <td>12.0</td>\n",
       "      <td>1950s</td>\n",
       "      <td>False</td>\n",
       "      <td>premade</td>\n",
       "    </tr>\n",
       "    <tr>\n",
       "      <th>6</th>\n",
       "      <td>603071001.0</td>\n",
       "      <td>Crepe paper peonies stem Paper anniversary Peo...</td>\n",
       "      <td>Perfect for any occasion! A great way to make ...</td>\n",
       "      <td>30.00</td>\n",
       "      <td>USD</td>\n",
       "      <td>2.0</td>\n",
       "      <td>388.0</td>\n",
       "      <td>41.0</td>\n",
       "      <td>made_to_order</td>\n",
       "      <td>True</td>\n",
       "      <td>made_to_order</td>\n",
       "    </tr>\n",
       "    <tr>\n",
       "      <th>7</th>\n",
       "      <td>672229650.0</td>\n",
       "      <td>Set of 3 Purple Paper Helleborus - Paper Flowe...</td>\n",
       "      <td>Freshen up and brighten your home or office wi...</td>\n",
       "      <td>68.00</td>\n",
       "      <td>USD</td>\n",
       "      <td>1.0</td>\n",
       "      <td>122.0</td>\n",
       "      <td>21.0</td>\n",
       "      <td>2020_2020</td>\n",
       "      <td>False</td>\n",
       "      <td>premade</td>\n",
       "    </tr>\n",
       "    <tr>\n",
       "      <th>8</th>\n",
       "      <td>585898784.0</td>\n",
       "      <td>Snowdrops Bouquet - Crepe Paper Flowers - Pape...</td>\n",
       "      <td>Freshen up and brighten your home or office wi...</td>\n",
       "      <td>98.00</td>\n",
       "      <td>USD</td>\n",
       "      <td>1.0</td>\n",
       "      <td>1170.0</td>\n",
       "      <td>40.0</td>\n",
       "      <td>2010_2019</td>\n",
       "      <td>False</td>\n",
       "      <td>premade</td>\n",
       "    </tr>\n",
       "    <tr>\n",
       "      <th>9</th>\n",
       "      <td>585836036.0</td>\n",
       "      <td>Set of 3 Pink Open Paper Ranunculus - Pink Ran...</td>\n",
       "      <td>The Ranunculus Paper Flowers are suitablе to b...</td>\n",
       "      <td>45.00</td>\n",
       "      <td>USD</td>\n",
       "      <td>1.0</td>\n",
       "      <td>170.0</td>\n",
       "      <td>13.0</td>\n",
       "      <td>2010_2019</td>\n",
       "      <td>False</td>\n",
       "      <td>premade</td>\n",
       "    </tr>\n",
       "  </tbody>\n",
       "</table>\n",
       "</div>"
      ],
      "text/plain": [
       "    listing_id                                              title  \\\n",
       "1  573652142.0  Vintage Christmas Accordion Bell, Vintage Red ...   \n",
       "6  603071001.0  Crepe paper peonies stem Paper anniversary Peo...   \n",
       "7  672229650.0  Set of 3 Purple Paper Helleborus - Paper Flowe...   \n",
       "8  585898784.0  Snowdrops Bouquet - Crepe Paper Flowers - Pape...   \n",
       "9  585836036.0  Set of 3 Pink Open Paper Ranunculus - Pink Ran...   \n",
       "\n",
       "                                         description  price currency_code  \\\n",
       "1  Vintage Christmas Accordion Bell, Vintage Red ...   6.97           USD   \n",
       "6  Perfect for any occasion! A great way to make ...  30.00           USD   \n",
       "7  Freshen up and brighten your home or office wi...  68.00           USD   \n",
       "8  Freshen up and brighten your home or office wi...  98.00           USD   \n",
       "9  The Ranunculus Paper Flowers are suitablе to b...  45.00           USD   \n",
       "\n",
       "   quantity   views  num_favorers      when_made  weddings  when_made_sum  \n",
       "1       2.0    93.0          12.0          1950s     False        premade  \n",
       "6       2.0   388.0          41.0  made_to_order      True  made_to_order  \n",
       "7       1.0   122.0          21.0      2020_2020     False        premade  \n",
       "8       1.0  1170.0          40.0      2010_2019     False        premade  \n",
       "9       1.0   170.0          13.0      2010_2019     False        premade  "
      ]
     },
     "execution_count": 35,
     "metadata": {},
     "output_type": "execute_result"
    }
   ],
   "source": [
    "listings_sub.head()"
   ]
  },
  {
   "cell_type": "code",
   "execution_count": 36,
   "metadata": {},
   "outputs": [
    {
     "data": {
      "text/plain": [
       "''"
      ]
     },
     "execution_count": 36,
     "metadata": {},
     "output_type": "execute_result"
    },
    {
     "data": {
      "image/png": "[encoded data removed]",
      "text/plain": [
       "<Figure size 720x576 with 1 Axes>"
      ]
     },
     "metadata": {
      "needs_background": "light"
     },
     "output_type": "display_data"
    }
   ],
   "source": [
    "plt.figure(figsize = [10,8])\n",
    "sb.boxplot(data = listings_sub, x = \"when_made_sum\", y = \"price\", hue = 'weddings')\n",
    "plt.xticks(rotation = 45)\n",
    ";"
   ]
  },
  {
   "cell_type": "markdown",
   "metadata": {},
   "source": [
    "Across all when made categories, wedding products have higher average prices."
   ]
  },
  {
   "cell_type": "markdown",
   "metadata": {},
   "source": [
    "### See relationship between prices and views with encodings for wedding and non-wedding products"
   ]
  },
  {
   "cell_type": "code",
   "execution_count": 37,
   "metadata": {},
   "outputs": [
    {
     "data": {
      "text/plain": [
       "''"
      ]
     },
     "execution_count": 37,
     "metadata": {},
     "output_type": "execute_result"
    },
    {
     "data": {
      "text/plain": [
       "<Figure size 720x720 with 0 Axes>"
      ]
     },
     "metadata": {},
     "output_type": "display_data"
    },
    {
     "data": {
      "image/png": "[encoded data removed]",
      "text/plain": [
       "<Figure size 432x216 with 2 Axes>"
      ]
     },
     "metadata": {
      "needs_background": "light"
     },
     "output_type": "display_data"
    }
   ],
   "source": [
    "plt.figure(figsize = [10,10])\n",
    "g = sb.FacetGrid(data = listings_sub, col='weddings', col_wrap = 2)\n",
    "g.map(plt.scatter, 'views', 'price')\n",
    ";"
   ]
  },
  {
   "cell_type": "markdown",
   "metadata": {},
   "source": [
    "There's a stronger relationship between a low view count and non-wedding products. This data might be skewed by a potential bias towards recently-listed data."
   ]
  },
  {
   "cell_type": "markdown",
   "metadata": {},
   "source": [
    "### Talk about some of the relationships you observed in this part of the investigation. Were there features that strengthened each other in terms of looking at your feature(s) of interest?\n",
    "\n",
    "The second multivariate plot that ompares the relationship bwteen price and numbers of views for weddding and non-wedding products shows that the type of product (at least in terms of this distinction) does not significantly strengthen the already weak relationship between price and views.\n",
    "\n",
    "### Were there any interesting or surprising interactions between features?\n",
    "\n",
    "It was surprising to see that there is a greater difference in the average price of wedding and non-wedding prices for made to order products than there was in pre made products."
   ]
  }
 ],
 "metadata": {
  "kernelspec": {
   "display_name": "Python 3",
   "language": "python",
   "name": "python3"
  },
  "language_info": {
   "codemirror_mode": {
    "name": "ipython",
    "version": 3
   },
   "file_extension": ".py",
   "mimetype": "text/x-python",
   "name": "python",
   "nbconvert_exporter": "python",
   "pygments_lexer": "ipython3",
   "version": "3.7.7"
  }
 },
 "nbformat": 4,
 "nbformat_minor": 2
}
